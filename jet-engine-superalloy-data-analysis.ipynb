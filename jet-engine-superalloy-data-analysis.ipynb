{
 "cells": [
  {
   "cell_type": "code",
   "execution_count": 1,
   "id": "5098a57c",
   "metadata": {
    "_cell_guid": "b1076dfc-b9ad-4769-8c92-a6c4dae69d19",
    "_uuid": "8f2839f25d086af736a60e9eeb907d3b93b6e0e5",
    "execution": {
     "iopub.execute_input": "2022-09-07T03:56:13.462991Z",
     "iopub.status.busy": "2022-09-07T03:56:13.462583Z",
     "iopub.status.idle": "2022-09-07T03:56:13.507069Z",
     "shell.execute_reply": "2022-09-07T03:56:13.506037Z"
    },
    "papermill": {
     "duration": 0.054144,
     "end_time": "2022-09-07T03:56:13.509446",
     "exception": false,
     "start_time": "2022-09-07T03:56:13.455302",
     "status": "completed"
    },
    "tags": []
   },
   "outputs": [
    {
     "name": "stdout",
     "output_type": "stream",
     "text": [
      "/kaggle/input/nasa-cmaps/CMaps/RUL_FD002.txt\n",
      "/kaggle/input/nasa-cmaps/CMaps/test_FD003.txt\n",
      "/kaggle/input/nasa-cmaps/CMaps/Damage Propagation Modeling.pdf\n",
      "/kaggle/input/nasa-cmaps/CMaps/readme.txt\n",
      "/kaggle/input/nasa-cmaps/CMaps/train_FD003.txt\n",
      "/kaggle/input/nasa-cmaps/CMaps/test_FD004.txt\n",
      "/kaggle/input/nasa-cmaps/CMaps/train_FD004.txt\n",
      "/kaggle/input/nasa-cmaps/CMaps/x.txt\n",
      "/kaggle/input/nasa-cmaps/CMaps/test_FD002.txt\n",
      "/kaggle/input/nasa-cmaps/CMaps/train_FD001.txt\n",
      "/kaggle/input/nasa-cmaps/CMaps/train_FD002.txt\n",
      "/kaggle/input/nasa-cmaps/CMaps/RUL_FD001.txt\n",
      "/kaggle/input/nasa-cmaps/CMaps/RUL_FD004.txt\n",
      "/kaggle/input/nasa-cmaps/CMaps/RUL_FD003.txt\n",
      "/kaggle/input/nasa-cmaps/CMaps/test_FD001.txt\n",
      "/kaggle/input/nasa-cmaps/cmaps/CMaps/RUL_FD002.txt\n",
      "/kaggle/input/nasa-cmaps/cmaps/CMaps/test_FD003.txt\n",
      "/kaggle/input/nasa-cmaps/cmaps/CMaps/Damage Propagation Modeling.pdf\n",
      "/kaggle/input/nasa-cmaps/cmaps/CMaps/readme.txt\n",
      "/kaggle/input/nasa-cmaps/cmaps/CMaps/train_FD003.txt\n",
      "/kaggle/input/nasa-cmaps/cmaps/CMaps/test_FD004.txt\n",
      "/kaggle/input/nasa-cmaps/cmaps/CMaps/train_FD004.txt\n",
      "/kaggle/input/nasa-cmaps/cmaps/CMaps/x.txt\n",
      "/kaggle/input/nasa-cmaps/cmaps/CMaps/test_FD002.txt\n",
      "/kaggle/input/nasa-cmaps/cmaps/CMaps/train_FD001.txt\n",
      "/kaggle/input/nasa-cmaps/cmaps/CMaps/train_FD002.txt\n",
      "/kaggle/input/nasa-cmaps/cmaps/CMaps/RUL_FD001.txt\n",
      "/kaggle/input/nasa-cmaps/cmaps/CMaps/RUL_FD004.txt\n",
      "/kaggle/input/nasa-cmaps/cmaps/CMaps/RUL_FD003.txt\n",
      "/kaggle/input/nasa-cmaps/cmaps/CMaps/test_FD001.txt\n"
     ]
    }
   ],
   "source": [
    "# This Python 3 environment comes with many helpful analytics libraries installed\n",
    "# It is defined by the kaggle/python Docker image: https://github.com/kaggle/docker-python\n",
    "# For example, here's several helpful packages to load\n",
    "\n",
    "import numpy as np # linear algebra\n",
    "import pandas as pd # data processing, CSV file I/O (e.g. pd.read_csv)\n",
    "\n",
    "# Input data files are available in the read-only \"../input/\" directory\n",
    "# For example, running this (by clicking run or pressing Shift+Enter) will list all files under the input directory\n",
    "\n",
    "import os\n",
    "for dirname, _, filenames in os.walk('/kaggle/input'):\n",
    "    for filename in filenames:\n",
    "        print(os.path.join(dirname, filename))\n",
    "\n",
    "# You can write up to 20GB to the current directory (/kaggle/working/) that gets preserved as output when you create a version using \"Save & Run All\" \n",
    "# You can also write temporary files to /kaggle/temp/, but they won't be saved outside of the current session"
   ]
  },
  {
   "cell_type": "code",
   "execution_count": 2,
   "id": "e4ff650a",
   "metadata": {
    "execution": {
     "iopub.execute_input": "2022-09-07T03:56:13.522801Z",
     "iopub.status.busy": "2022-09-07T03:56:13.522036Z",
     "iopub.status.idle": "2022-09-07T03:56:14.717564Z",
     "shell.execute_reply": "2022-09-07T03:56:14.716854Z"
    },
    "papermill": {
     "duration": 1.204364,
     "end_time": "2022-09-07T03:56:14.719735",
     "exception": false,
     "start_time": "2022-09-07T03:56:13.515371",
     "status": "completed"
    },
    "tags": []
   },
   "outputs": [],
   "source": [
    "import numpy as np\n",
    "import matplotlib.pyplot as plt\n",
    "import seaborn as sns\n",
    "%matplotlib inline"
   ]
  },
  {
   "cell_type": "code",
   "execution_count": 3,
   "id": "19e8364d",
   "metadata": {
    "execution": {
     "iopub.execute_input": "2022-09-07T03:56:14.732384Z",
     "iopub.status.busy": "2022-09-07T03:56:14.731623Z",
     "iopub.status.idle": "2022-09-07T03:56:14.736837Z",
     "shell.execute_reply": "2022-09-07T03:56:14.735617Z"
    },
    "papermill": {
     "duration": 0.014133,
     "end_time": "2022-09-07T03:56:14.739269",
     "exception": false,
     "start_time": "2022-09-07T03:56:14.725136",
     "status": "completed"
    },
    "tags": []
   },
   "outputs": [],
   "source": [
    "pd.set_option('display.max_rows', 500)\n",
    "pd.set_option('display.max_columns', 500)\n",
    "pd.set_option('display.width', 1000)"
   ]
  },
  {
   "cell_type": "code",
   "execution_count": 4,
   "id": "802b7c4e",
   "metadata": {
    "execution": {
     "iopub.execute_input": "2022-09-07T03:56:14.752617Z",
     "iopub.status.busy": "2022-09-07T03:56:14.752191Z",
     "iopub.status.idle": "2022-09-07T03:56:14.827419Z",
     "shell.execute_reply": "2022-09-07T03:56:14.826686Z"
    },
    "papermill": {
     "duration": 0.084922,
     "end_time": "2022-09-07T03:56:14.829773",
     "exception": false,
     "start_time": "2022-09-07T03:56:14.744851",
     "status": "completed"
    },
    "tags": []
   },
   "outputs": [],
   "source": [
    "df = pd.read_csv(\"/kaggle/input/nasa-cmaps/cmaps/CMaps/test_FD001.txt\", header=None, sep=\" \")"
   ]
  },
  {
   "cell_type": "code",
   "execution_count": 5,
   "id": "7fde12d8",
   "metadata": {
    "execution": {
     "iopub.execute_input": "2022-09-07T03:56:14.844443Z",
     "iopub.status.busy": "2022-09-07T03:56:14.842729Z",
     "iopub.status.idle": "2022-09-07T03:56:14.882601Z",
     "shell.execute_reply": "2022-09-07T03:56:14.881695Z"
    },
    "papermill": {
     "duration": 0.049329,
     "end_time": "2022-09-07T03:56:14.884805",
     "exception": false,
     "start_time": "2022-09-07T03:56:14.835476",
     "status": "completed"
    },
    "tags": []
   },
   "outputs": [
    {
     "data": {
      "text/html": [
       "<div>\n",
       "<style scoped>\n",
       "    .dataframe tbody tr th:only-of-type {\n",
       "        vertical-align: middle;\n",
       "    }\n",
       "\n",
       "    .dataframe tbody tr th {\n",
       "        vertical-align: top;\n",
       "    }\n",
       "\n",
       "    .dataframe thead th {\n",
       "        text-align: right;\n",
       "    }\n",
       "</style>\n",
       "<table border=\"1\" class=\"dataframe\">\n",
       "  <thead>\n",
       "    <tr style=\"text-align: right;\">\n",
       "      <th></th>\n",
       "      <th>0</th>\n",
       "      <th>1</th>\n",
       "      <th>2</th>\n",
       "      <th>3</th>\n",
       "      <th>4</th>\n",
       "      <th>5</th>\n",
       "      <th>6</th>\n",
       "      <th>7</th>\n",
       "      <th>8</th>\n",
       "      <th>9</th>\n",
       "      <th>10</th>\n",
       "      <th>11</th>\n",
       "      <th>12</th>\n",
       "      <th>13</th>\n",
       "      <th>14</th>\n",
       "      <th>15</th>\n",
       "      <th>16</th>\n",
       "      <th>17</th>\n",
       "      <th>18</th>\n",
       "      <th>19</th>\n",
       "      <th>20</th>\n",
       "      <th>21</th>\n",
       "      <th>22</th>\n",
       "      <th>23</th>\n",
       "      <th>24</th>\n",
       "      <th>25</th>\n",
       "      <th>26</th>\n",
       "      <th>27</th>\n",
       "    </tr>\n",
       "  </thead>\n",
       "  <tbody>\n",
       "    <tr>\n",
       "      <th>0</th>\n",
       "      <td>1</td>\n",
       "      <td>1</td>\n",
       "      <td>0.0023</td>\n",
       "      <td>0.0003</td>\n",
       "      <td>100.0</td>\n",
       "      <td>518.67</td>\n",
       "      <td>643.02</td>\n",
       "      <td>1585.29</td>\n",
       "      <td>1398.21</td>\n",
       "      <td>14.62</td>\n",
       "      <td>21.61</td>\n",
       "      <td>553.90</td>\n",
       "      <td>2388.04</td>\n",
       "      <td>9050.17</td>\n",
       "      <td>1.3</td>\n",
       "      <td>47.20</td>\n",
       "      <td>521.72</td>\n",
       "      <td>2388.03</td>\n",
       "      <td>8125.55</td>\n",
       "      <td>8.4052</td>\n",
       "      <td>0.03</td>\n",
       "      <td>392</td>\n",
       "      <td>2388</td>\n",
       "      <td>100.0</td>\n",
       "      <td>38.86</td>\n",
       "      <td>23.3735</td>\n",
       "      <td>NaN</td>\n",
       "      <td>NaN</td>\n",
       "    </tr>\n",
       "    <tr>\n",
       "      <th>1</th>\n",
       "      <td>1</td>\n",
       "      <td>2</td>\n",
       "      <td>-0.0027</td>\n",
       "      <td>-0.0003</td>\n",
       "      <td>100.0</td>\n",
       "      <td>518.67</td>\n",
       "      <td>641.71</td>\n",
       "      <td>1588.45</td>\n",
       "      <td>1395.42</td>\n",
       "      <td>14.62</td>\n",
       "      <td>21.61</td>\n",
       "      <td>554.85</td>\n",
       "      <td>2388.01</td>\n",
       "      <td>9054.42</td>\n",
       "      <td>1.3</td>\n",
       "      <td>47.50</td>\n",
       "      <td>522.16</td>\n",
       "      <td>2388.06</td>\n",
       "      <td>8139.62</td>\n",
       "      <td>8.3803</td>\n",
       "      <td>0.03</td>\n",
       "      <td>393</td>\n",
       "      <td>2388</td>\n",
       "      <td>100.0</td>\n",
       "      <td>39.02</td>\n",
       "      <td>23.3916</td>\n",
       "      <td>NaN</td>\n",
       "      <td>NaN</td>\n",
       "    </tr>\n",
       "    <tr>\n",
       "      <th>2</th>\n",
       "      <td>1</td>\n",
       "      <td>3</td>\n",
       "      <td>0.0003</td>\n",
       "      <td>0.0001</td>\n",
       "      <td>100.0</td>\n",
       "      <td>518.67</td>\n",
       "      <td>642.46</td>\n",
       "      <td>1586.94</td>\n",
       "      <td>1401.34</td>\n",
       "      <td>14.62</td>\n",
       "      <td>21.61</td>\n",
       "      <td>554.11</td>\n",
       "      <td>2388.05</td>\n",
       "      <td>9056.96</td>\n",
       "      <td>1.3</td>\n",
       "      <td>47.50</td>\n",
       "      <td>521.97</td>\n",
       "      <td>2388.03</td>\n",
       "      <td>8130.10</td>\n",
       "      <td>8.4441</td>\n",
       "      <td>0.03</td>\n",
       "      <td>393</td>\n",
       "      <td>2388</td>\n",
       "      <td>100.0</td>\n",
       "      <td>39.08</td>\n",
       "      <td>23.4166</td>\n",
       "      <td>NaN</td>\n",
       "      <td>NaN</td>\n",
       "    </tr>\n",
       "    <tr>\n",
       "      <th>3</th>\n",
       "      <td>1</td>\n",
       "      <td>4</td>\n",
       "      <td>0.0042</td>\n",
       "      <td>0.0000</td>\n",
       "      <td>100.0</td>\n",
       "      <td>518.67</td>\n",
       "      <td>642.44</td>\n",
       "      <td>1584.12</td>\n",
       "      <td>1406.42</td>\n",
       "      <td>14.62</td>\n",
       "      <td>21.61</td>\n",
       "      <td>554.07</td>\n",
       "      <td>2388.03</td>\n",
       "      <td>9045.29</td>\n",
       "      <td>1.3</td>\n",
       "      <td>47.28</td>\n",
       "      <td>521.38</td>\n",
       "      <td>2388.05</td>\n",
       "      <td>8132.90</td>\n",
       "      <td>8.3917</td>\n",
       "      <td>0.03</td>\n",
       "      <td>391</td>\n",
       "      <td>2388</td>\n",
       "      <td>100.0</td>\n",
       "      <td>39.00</td>\n",
       "      <td>23.3737</td>\n",
       "      <td>NaN</td>\n",
       "      <td>NaN</td>\n",
       "    </tr>\n",
       "    <tr>\n",
       "      <th>4</th>\n",
       "      <td>1</td>\n",
       "      <td>5</td>\n",
       "      <td>0.0014</td>\n",
       "      <td>0.0000</td>\n",
       "      <td>100.0</td>\n",
       "      <td>518.67</td>\n",
       "      <td>642.51</td>\n",
       "      <td>1587.19</td>\n",
       "      <td>1401.92</td>\n",
       "      <td>14.62</td>\n",
       "      <td>21.61</td>\n",
       "      <td>554.16</td>\n",
       "      <td>2388.01</td>\n",
       "      <td>9044.55</td>\n",
       "      <td>1.3</td>\n",
       "      <td>47.31</td>\n",
       "      <td>522.15</td>\n",
       "      <td>2388.03</td>\n",
       "      <td>8129.54</td>\n",
       "      <td>8.4031</td>\n",
       "      <td>0.03</td>\n",
       "      <td>390</td>\n",
       "      <td>2388</td>\n",
       "      <td>100.0</td>\n",
       "      <td>38.99</td>\n",
       "      <td>23.4130</td>\n",
       "      <td>NaN</td>\n",
       "      <td>NaN</td>\n",
       "    </tr>\n",
       "  </tbody>\n",
       "</table>\n",
       "</div>"
      ],
      "text/plain": [
       "   0   1       2       3      4       5       6        7        8      9      10      11       12       13   14     15      16       17       18      19    20   21    22     23     24       25  26  27\n",
       "0   1   1  0.0023  0.0003  100.0  518.67  643.02  1585.29  1398.21  14.62  21.61  553.90  2388.04  9050.17  1.3  47.20  521.72  2388.03  8125.55  8.4052  0.03  392  2388  100.0  38.86  23.3735 NaN NaN\n",
       "1   1   2 -0.0027 -0.0003  100.0  518.67  641.71  1588.45  1395.42  14.62  21.61  554.85  2388.01  9054.42  1.3  47.50  522.16  2388.06  8139.62  8.3803  0.03  393  2388  100.0  39.02  23.3916 NaN NaN\n",
       "2   1   3  0.0003  0.0001  100.0  518.67  642.46  1586.94  1401.34  14.62  21.61  554.11  2388.05  9056.96  1.3  47.50  521.97  2388.03  8130.10  8.4441  0.03  393  2388  100.0  39.08  23.4166 NaN NaN\n",
       "3   1   4  0.0042  0.0000  100.0  518.67  642.44  1584.12  1406.42  14.62  21.61  554.07  2388.03  9045.29  1.3  47.28  521.38  2388.05  8132.90  8.3917  0.03  391  2388  100.0  39.00  23.3737 NaN NaN\n",
       "4   1   5  0.0014  0.0000  100.0  518.67  642.51  1587.19  1401.92  14.62  21.61  554.16  2388.01  9044.55  1.3  47.31  522.15  2388.03  8129.54  8.4031  0.03  390  2388  100.0  38.99  23.4130 NaN NaN"
      ]
     },
     "execution_count": 5,
     "metadata": {},
     "output_type": "execute_result"
    }
   ],
   "source": [
    "df.head()"
   ]
  },
  {
   "cell_type": "code",
   "execution_count": 6,
   "id": "cce9cbaa",
   "metadata": {
    "execution": {
     "iopub.execute_input": "2022-09-07T03:56:14.898453Z",
     "iopub.status.busy": "2022-09-07T03:56:14.898102Z",
     "iopub.status.idle": "2022-09-07T03:56:14.926565Z",
     "shell.execute_reply": "2022-09-07T03:56:14.925655Z"
    },
    "papermill": {
     "duration": 0.037578,
     "end_time": "2022-09-07T03:56:14.928664",
     "exception": false,
     "start_time": "2022-09-07T03:56:14.891086",
     "status": "completed"
    },
    "tags": []
   },
   "outputs": [
    {
     "name": "stdout",
     "output_type": "stream",
     "text": [
      "<class 'pandas.core.frame.DataFrame'>\n",
      "RangeIndex: 13096 entries, 0 to 13095\n",
      "Data columns (total 28 columns):\n",
      " #   Column  Non-Null Count  Dtype  \n",
      "---  ------  --------------  -----  \n",
      " 0   0       13096 non-null  int64  \n",
      " 1   1       13096 non-null  int64  \n",
      " 2   2       13096 non-null  float64\n",
      " 3   3       13096 non-null  float64\n",
      " 4   4       13096 non-null  float64\n",
      " 5   5       13096 non-null  float64\n",
      " 6   6       13096 non-null  float64\n",
      " 7   7       13096 non-null  float64\n",
      " 8   8       13096 non-null  float64\n",
      " 9   9       13096 non-null  float64\n",
      " 10  10      13096 non-null  float64\n",
      " 11  11      13096 non-null  float64\n",
      " 12  12      13096 non-null  float64\n",
      " 13  13      13096 non-null  float64\n",
      " 14  14      13096 non-null  float64\n",
      " 15  15      13096 non-null  float64\n",
      " 16  16      13096 non-null  float64\n",
      " 17  17      13096 non-null  float64\n",
      " 18  18      13096 non-null  float64\n",
      " 19  19      13096 non-null  float64\n",
      " 20  20      13096 non-null  float64\n",
      " 21  21      13096 non-null  int64  \n",
      " 22  22      13096 non-null  int64  \n",
      " 23  23      13096 non-null  float64\n",
      " 24  24      13096 non-null  float64\n",
      " 25  25      13096 non-null  float64\n",
      " 26  26      0 non-null      float64\n",
      " 27  27      0 non-null      float64\n",
      "dtypes: float64(24), int64(4)\n",
      "memory usage: 2.8 MB\n"
     ]
    }
   ],
   "source": [
    "df.info()"
   ]
  },
  {
   "cell_type": "code",
   "execution_count": 7,
   "id": "637854f8",
   "metadata": {
    "execution": {
     "iopub.execute_input": "2022-09-07T03:56:14.943243Z",
     "iopub.status.busy": "2022-09-07T03:56:14.942808Z",
     "iopub.status.idle": "2022-09-07T03:56:14.950090Z",
     "shell.execute_reply": "2022-09-07T03:56:14.948912Z"
    },
    "papermill": {
     "duration": 0.01709,
     "end_time": "2022-09-07T03:56:14.952277",
     "exception": false,
     "start_time": "2022-09-07T03:56:14.935187",
     "status": "completed"
    },
    "tags": []
   },
   "outputs": [
    {
     "data": {
      "text/plain": [
       "(13096, 28)"
      ]
     },
     "execution_count": 7,
     "metadata": {},
     "output_type": "execute_result"
    }
   ],
   "source": [
    "df.shape"
   ]
  },
  {
   "cell_type": "markdown",
   "id": "2dbb7901",
   "metadata": {
    "papermill": {
     "duration": 0.00602,
     "end_time": "2022-09-07T03:56:14.964733",
     "exception": false,
     "start_time": "2022-09-07T03:56:14.958713",
     "status": "completed"
    },
    "tags": []
   },
   "source": [
    "# Data Cleaning"
   ]
  },
  {
   "cell_type": "markdown",
   "id": "f3bc5348",
   "metadata": {
    "papermill": {
     "duration": 0.006066,
     "end_time": "2022-09-07T03:56:14.977006",
     "exception": false,
     "start_time": "2022-09-07T03:56:14.970940",
     "status": "completed"
    },
    "tags": []
   },
   "source": [
    "## Add column names"
   ]
  },
  {
   "cell_type": "code",
   "execution_count": 8,
   "id": "0ae1b3b9",
   "metadata": {
    "execution": {
     "iopub.execute_input": "2022-09-07T03:56:14.992752Z",
     "iopub.status.busy": "2022-09-07T03:56:14.992048Z",
     "iopub.status.idle": "2022-09-07T03:56:14.998275Z",
     "shell.execute_reply": "2022-09-07T03:56:14.997412Z"
    },
    "papermill": {
     "duration": 0.016991,
     "end_time": "2022-09-07T03:56:15.000621",
     "exception": false,
     "start_time": "2022-09-07T03:56:14.983630",
     "status": "completed"
    },
    "tags": []
   },
   "outputs": [],
   "source": [
    "col_names = [\"unit_number\", \"time_in_cycles\", \"operational_setting_1\", \"operational_setting_2\", \"operational_setting_3\"]"
   ]
  },
  {
   "cell_type": "code",
   "execution_count": 9,
   "id": "df93489a",
   "metadata": {
    "execution": {
     "iopub.execute_input": "2022-09-07T03:56:15.015470Z",
     "iopub.status.busy": "2022-09-07T03:56:15.015110Z",
     "iopub.status.idle": "2022-09-07T03:56:15.022320Z",
     "shell.execute_reply": "2022-09-07T03:56:15.021552Z"
    },
    "papermill": {
     "duration": 0.017174,
     "end_time": "2022-09-07T03:56:15.024156",
     "exception": false,
     "start_time": "2022-09-07T03:56:15.006982",
     "status": "completed"
    },
    "tags": []
   },
   "outputs": [
    {
     "data": {
      "text/plain": [
       "['unit_number',\n",
       " 'time_in_cycles',\n",
       " 'operational_setting_1',\n",
       " 'operational_setting_2',\n",
       " 'operational_setting_3']"
      ]
     },
     "execution_count": 9,
     "metadata": {},
     "output_type": "execute_result"
    }
   ],
   "source": [
    "col_names"
   ]
  },
  {
   "cell_type": "code",
   "execution_count": 10,
   "id": "33ff6796",
   "metadata": {
    "execution": {
     "iopub.execute_input": "2022-09-07T03:56:15.038900Z",
     "iopub.status.busy": "2022-09-07T03:56:15.038374Z",
     "iopub.status.idle": "2022-09-07T03:56:15.044373Z",
     "shell.execute_reply": "2022-09-07T03:56:15.043479Z"
    },
    "papermill": {
     "duration": 0.015966,
     "end_time": "2022-09-07T03:56:15.046783",
     "exception": false,
     "start_time": "2022-09-07T03:56:15.030817",
     "status": "completed"
    },
    "tags": []
   },
   "outputs": [],
   "source": [
    "for i in range(1,24):\n",
    "    sensor_measurement = f\"sensor_measurement_{i}\"\n",
    "    col_names.append(sensor_measurement)"
   ]
  },
  {
   "cell_type": "code",
   "execution_count": 11,
   "id": "48058dae",
   "metadata": {
    "execution": {
     "iopub.execute_input": "2022-09-07T03:56:15.061125Z",
     "iopub.status.busy": "2022-09-07T03:56:15.060617Z",
     "iopub.status.idle": "2022-09-07T03:56:15.065798Z",
     "shell.execute_reply": "2022-09-07T03:56:15.064649Z"
    },
    "papermill": {
     "duration": 0.015309,
     "end_time": "2022-09-07T03:56:15.068443",
     "exception": false,
     "start_time": "2022-09-07T03:56:15.053134",
     "status": "completed"
    },
    "tags": []
   },
   "outputs": [],
   "source": [
    "df.columns = col_names"
   ]
  },
  {
   "cell_type": "code",
   "execution_count": 12,
   "id": "78c81bed",
   "metadata": {
    "execution": {
     "iopub.execute_input": "2022-09-07T03:56:15.085076Z",
     "iopub.status.busy": "2022-09-07T03:56:15.084711Z",
     "iopub.status.idle": "2022-09-07T03:56:15.119039Z",
     "shell.execute_reply": "2022-09-07T03:56:15.117561Z"
    },
    "papermill": {
     "duration": 0.046105,
     "end_time": "2022-09-07T03:56:15.121781",
     "exception": false,
     "start_time": "2022-09-07T03:56:15.075676",
     "status": "completed"
    },
    "tags": []
   },
   "outputs": [
    {
     "data": {
      "text/html": [
       "<div>\n",
       "<style scoped>\n",
       "    .dataframe tbody tr th:only-of-type {\n",
       "        vertical-align: middle;\n",
       "    }\n",
       "\n",
       "    .dataframe tbody tr th {\n",
       "        vertical-align: top;\n",
       "    }\n",
       "\n",
       "    .dataframe thead th {\n",
       "        text-align: right;\n",
       "    }\n",
       "</style>\n",
       "<table border=\"1\" class=\"dataframe\">\n",
       "  <thead>\n",
       "    <tr style=\"text-align: right;\">\n",
       "      <th></th>\n",
       "      <th>unit_number</th>\n",
       "      <th>time_in_cycles</th>\n",
       "      <th>operational_setting_1</th>\n",
       "      <th>operational_setting_2</th>\n",
       "      <th>operational_setting_3</th>\n",
       "      <th>sensor_measurement_1</th>\n",
       "      <th>sensor_measurement_2</th>\n",
       "      <th>sensor_measurement_3</th>\n",
       "      <th>sensor_measurement_4</th>\n",
       "      <th>sensor_measurement_5</th>\n",
       "      <th>sensor_measurement_6</th>\n",
       "      <th>sensor_measurement_7</th>\n",
       "      <th>sensor_measurement_8</th>\n",
       "      <th>sensor_measurement_9</th>\n",
       "      <th>sensor_measurement_10</th>\n",
       "      <th>sensor_measurement_11</th>\n",
       "      <th>sensor_measurement_12</th>\n",
       "      <th>sensor_measurement_13</th>\n",
       "      <th>sensor_measurement_14</th>\n",
       "      <th>sensor_measurement_15</th>\n",
       "      <th>sensor_measurement_16</th>\n",
       "      <th>sensor_measurement_17</th>\n",
       "      <th>sensor_measurement_18</th>\n",
       "      <th>sensor_measurement_19</th>\n",
       "      <th>sensor_measurement_20</th>\n",
       "      <th>sensor_measurement_21</th>\n",
       "      <th>sensor_measurement_22</th>\n",
       "      <th>sensor_measurement_23</th>\n",
       "    </tr>\n",
       "  </thead>\n",
       "  <tbody>\n",
       "    <tr>\n",
       "      <th>0</th>\n",
       "      <td>1</td>\n",
       "      <td>1</td>\n",
       "      <td>0.0023</td>\n",
       "      <td>0.0003</td>\n",
       "      <td>100.0</td>\n",
       "      <td>518.67</td>\n",
       "      <td>643.02</td>\n",
       "      <td>1585.29</td>\n",
       "      <td>1398.21</td>\n",
       "      <td>14.62</td>\n",
       "      <td>21.61</td>\n",
       "      <td>553.90</td>\n",
       "      <td>2388.04</td>\n",
       "      <td>9050.17</td>\n",
       "      <td>1.3</td>\n",
       "      <td>47.20</td>\n",
       "      <td>521.72</td>\n",
       "      <td>2388.03</td>\n",
       "      <td>8125.55</td>\n",
       "      <td>8.4052</td>\n",
       "      <td>0.03</td>\n",
       "      <td>392</td>\n",
       "      <td>2388</td>\n",
       "      <td>100.0</td>\n",
       "      <td>38.86</td>\n",
       "      <td>23.3735</td>\n",
       "      <td>NaN</td>\n",
       "      <td>NaN</td>\n",
       "    </tr>\n",
       "    <tr>\n",
       "      <th>1</th>\n",
       "      <td>1</td>\n",
       "      <td>2</td>\n",
       "      <td>-0.0027</td>\n",
       "      <td>-0.0003</td>\n",
       "      <td>100.0</td>\n",
       "      <td>518.67</td>\n",
       "      <td>641.71</td>\n",
       "      <td>1588.45</td>\n",
       "      <td>1395.42</td>\n",
       "      <td>14.62</td>\n",
       "      <td>21.61</td>\n",
       "      <td>554.85</td>\n",
       "      <td>2388.01</td>\n",
       "      <td>9054.42</td>\n",
       "      <td>1.3</td>\n",
       "      <td>47.50</td>\n",
       "      <td>522.16</td>\n",
       "      <td>2388.06</td>\n",
       "      <td>8139.62</td>\n",
       "      <td>8.3803</td>\n",
       "      <td>0.03</td>\n",
       "      <td>393</td>\n",
       "      <td>2388</td>\n",
       "      <td>100.0</td>\n",
       "      <td>39.02</td>\n",
       "      <td>23.3916</td>\n",
       "      <td>NaN</td>\n",
       "      <td>NaN</td>\n",
       "    </tr>\n",
       "    <tr>\n",
       "      <th>2</th>\n",
       "      <td>1</td>\n",
       "      <td>3</td>\n",
       "      <td>0.0003</td>\n",
       "      <td>0.0001</td>\n",
       "      <td>100.0</td>\n",
       "      <td>518.67</td>\n",
       "      <td>642.46</td>\n",
       "      <td>1586.94</td>\n",
       "      <td>1401.34</td>\n",
       "      <td>14.62</td>\n",
       "      <td>21.61</td>\n",
       "      <td>554.11</td>\n",
       "      <td>2388.05</td>\n",
       "      <td>9056.96</td>\n",
       "      <td>1.3</td>\n",
       "      <td>47.50</td>\n",
       "      <td>521.97</td>\n",
       "      <td>2388.03</td>\n",
       "      <td>8130.10</td>\n",
       "      <td>8.4441</td>\n",
       "      <td>0.03</td>\n",
       "      <td>393</td>\n",
       "      <td>2388</td>\n",
       "      <td>100.0</td>\n",
       "      <td>39.08</td>\n",
       "      <td>23.4166</td>\n",
       "      <td>NaN</td>\n",
       "      <td>NaN</td>\n",
       "    </tr>\n",
       "    <tr>\n",
       "      <th>3</th>\n",
       "      <td>1</td>\n",
       "      <td>4</td>\n",
       "      <td>0.0042</td>\n",
       "      <td>0.0000</td>\n",
       "      <td>100.0</td>\n",
       "      <td>518.67</td>\n",
       "      <td>642.44</td>\n",
       "      <td>1584.12</td>\n",
       "      <td>1406.42</td>\n",
       "      <td>14.62</td>\n",
       "      <td>21.61</td>\n",
       "      <td>554.07</td>\n",
       "      <td>2388.03</td>\n",
       "      <td>9045.29</td>\n",
       "      <td>1.3</td>\n",
       "      <td>47.28</td>\n",
       "      <td>521.38</td>\n",
       "      <td>2388.05</td>\n",
       "      <td>8132.90</td>\n",
       "      <td>8.3917</td>\n",
       "      <td>0.03</td>\n",
       "      <td>391</td>\n",
       "      <td>2388</td>\n",
       "      <td>100.0</td>\n",
       "      <td>39.00</td>\n",
       "      <td>23.3737</td>\n",
       "      <td>NaN</td>\n",
       "      <td>NaN</td>\n",
       "    </tr>\n",
       "    <tr>\n",
       "      <th>4</th>\n",
       "      <td>1</td>\n",
       "      <td>5</td>\n",
       "      <td>0.0014</td>\n",
       "      <td>0.0000</td>\n",
       "      <td>100.0</td>\n",
       "      <td>518.67</td>\n",
       "      <td>642.51</td>\n",
       "      <td>1587.19</td>\n",
       "      <td>1401.92</td>\n",
       "      <td>14.62</td>\n",
       "      <td>21.61</td>\n",
       "      <td>554.16</td>\n",
       "      <td>2388.01</td>\n",
       "      <td>9044.55</td>\n",
       "      <td>1.3</td>\n",
       "      <td>47.31</td>\n",
       "      <td>522.15</td>\n",
       "      <td>2388.03</td>\n",
       "      <td>8129.54</td>\n",
       "      <td>8.4031</td>\n",
       "      <td>0.03</td>\n",
       "      <td>390</td>\n",
       "      <td>2388</td>\n",
       "      <td>100.0</td>\n",
       "      <td>38.99</td>\n",
       "      <td>23.4130</td>\n",
       "      <td>NaN</td>\n",
       "      <td>NaN</td>\n",
       "    </tr>\n",
       "  </tbody>\n",
       "</table>\n",
       "</div>"
      ],
      "text/plain": [
       "   unit_number  time_in_cycles  operational_setting_1  operational_setting_2  operational_setting_3  sensor_measurement_1  sensor_measurement_2  sensor_measurement_3  sensor_measurement_4  sensor_measurement_5  sensor_measurement_6  sensor_measurement_7  sensor_measurement_8  sensor_measurement_9  sensor_measurement_10  sensor_measurement_11  sensor_measurement_12  sensor_measurement_13  sensor_measurement_14  sensor_measurement_15  sensor_measurement_16  sensor_measurement_17  sensor_measurement_18  sensor_measurement_19  sensor_measurement_20  sensor_measurement_21  sensor_measurement_22  sensor_measurement_23\n",
       "0            1               1                 0.0023                 0.0003                  100.0                518.67                643.02               1585.29               1398.21                 14.62                 21.61                553.90               2388.04               9050.17                    1.3                  47.20                 521.72                2388.03                8125.55                 8.4052                   0.03                    392                   2388                  100.0                  38.86                23.3735                    NaN                    NaN\n",
       "1            1               2                -0.0027                -0.0003                  100.0                518.67                641.71               1588.45               1395.42                 14.62                 21.61                554.85               2388.01               9054.42                    1.3                  47.50                 522.16                2388.06                8139.62                 8.3803                   0.03                    393                   2388                  100.0                  39.02                23.3916                    NaN                    NaN\n",
       "2            1               3                 0.0003                 0.0001                  100.0                518.67                642.46               1586.94               1401.34                 14.62                 21.61                554.11               2388.05               9056.96                    1.3                  47.50                 521.97                2388.03                8130.10                 8.4441                   0.03                    393                   2388                  100.0                  39.08                23.4166                    NaN                    NaN\n",
       "3            1               4                 0.0042                 0.0000                  100.0                518.67                642.44               1584.12               1406.42                 14.62                 21.61                554.07               2388.03               9045.29                    1.3                  47.28                 521.38                2388.05                8132.90                 8.3917                   0.03                    391                   2388                  100.0                  39.00                23.3737                    NaN                    NaN\n",
       "4            1               5                 0.0014                 0.0000                  100.0                518.67                642.51               1587.19               1401.92                 14.62                 21.61                554.16               2388.01               9044.55                    1.3                  47.31                 522.15                2388.03                8129.54                 8.4031                   0.03                    390                   2388                  100.0                  38.99                23.4130                    NaN                    NaN"
      ]
     },
     "execution_count": 12,
     "metadata": {},
     "output_type": "execute_result"
    }
   ],
   "source": [
    "df.head()"
   ]
  },
  {
   "cell_type": "markdown",
   "id": "047fad21",
   "metadata": {
    "papermill": {
     "duration": 0.006329,
     "end_time": "2022-09-07T03:56:15.135131",
     "exception": false,
     "start_time": "2022-09-07T03:56:15.128802",
     "status": "completed"
    },
    "tags": []
   },
   "source": [
    "## Drop empty columns"
   ]
  },
  {
   "cell_type": "code",
   "execution_count": 13,
   "id": "bd49536f",
   "metadata": {
    "execution": {
     "iopub.execute_input": "2022-09-07T03:56:15.152913Z",
     "iopub.status.busy": "2022-09-07T03:56:15.151703Z",
     "iopub.status.idle": "2022-09-07T03:56:15.162773Z",
     "shell.execute_reply": "2022-09-07T03:56:15.160648Z"
    },
    "papermill": {
     "duration": 0.023191,
     "end_time": "2022-09-07T03:56:15.165255",
     "exception": false,
     "start_time": "2022-09-07T03:56:15.142064",
     "status": "completed"
    },
    "tags": []
   },
   "outputs": [],
   "source": [
    "df.drop(labels=[\"sensor_measurement_22\", \"sensor_measurement_23\"], axis=1, inplace=True)"
   ]
  },
  {
   "cell_type": "code",
   "execution_count": 14,
   "id": "bc4a4275",
   "metadata": {
    "execution": {
     "iopub.execute_input": "2022-09-07T03:56:15.180254Z",
     "iopub.status.busy": "2022-09-07T03:56:15.179888Z",
     "iopub.status.idle": "2022-09-07T03:56:15.211722Z",
     "shell.execute_reply": "2022-09-07T03:56:15.209788Z"
    },
    "papermill": {
     "duration": 0.042631,
     "end_time": "2022-09-07T03:56:15.214476",
     "exception": false,
     "start_time": "2022-09-07T03:56:15.171845",
     "status": "completed"
    },
    "tags": []
   },
   "outputs": [
    {
     "data": {
      "text/html": [
       "<div>\n",
       "<style scoped>\n",
       "    .dataframe tbody tr th:only-of-type {\n",
       "        vertical-align: middle;\n",
       "    }\n",
       "\n",
       "    .dataframe tbody tr th {\n",
       "        vertical-align: top;\n",
       "    }\n",
       "\n",
       "    .dataframe thead th {\n",
       "        text-align: right;\n",
       "    }\n",
       "</style>\n",
       "<table border=\"1\" class=\"dataframe\">\n",
       "  <thead>\n",
       "    <tr style=\"text-align: right;\">\n",
       "      <th></th>\n",
       "      <th>unit_number</th>\n",
       "      <th>time_in_cycles</th>\n",
       "      <th>operational_setting_1</th>\n",
       "      <th>operational_setting_2</th>\n",
       "      <th>operational_setting_3</th>\n",
       "      <th>sensor_measurement_1</th>\n",
       "      <th>sensor_measurement_2</th>\n",
       "      <th>sensor_measurement_3</th>\n",
       "      <th>sensor_measurement_4</th>\n",
       "      <th>sensor_measurement_5</th>\n",
       "      <th>sensor_measurement_6</th>\n",
       "      <th>sensor_measurement_7</th>\n",
       "      <th>sensor_measurement_8</th>\n",
       "      <th>sensor_measurement_9</th>\n",
       "      <th>sensor_measurement_10</th>\n",
       "      <th>sensor_measurement_11</th>\n",
       "      <th>sensor_measurement_12</th>\n",
       "      <th>sensor_measurement_13</th>\n",
       "      <th>sensor_measurement_14</th>\n",
       "      <th>sensor_measurement_15</th>\n",
       "      <th>sensor_measurement_16</th>\n",
       "      <th>sensor_measurement_17</th>\n",
       "      <th>sensor_measurement_18</th>\n",
       "      <th>sensor_measurement_19</th>\n",
       "      <th>sensor_measurement_20</th>\n",
       "      <th>sensor_measurement_21</th>\n",
       "    </tr>\n",
       "  </thead>\n",
       "  <tbody>\n",
       "    <tr>\n",
       "      <th>0</th>\n",
       "      <td>1</td>\n",
       "      <td>1</td>\n",
       "      <td>0.0023</td>\n",
       "      <td>0.0003</td>\n",
       "      <td>100.0</td>\n",
       "      <td>518.67</td>\n",
       "      <td>643.02</td>\n",
       "      <td>1585.29</td>\n",
       "      <td>1398.21</td>\n",
       "      <td>14.62</td>\n",
       "      <td>21.61</td>\n",
       "      <td>553.90</td>\n",
       "      <td>2388.04</td>\n",
       "      <td>9050.17</td>\n",
       "      <td>1.3</td>\n",
       "      <td>47.20</td>\n",
       "      <td>521.72</td>\n",
       "      <td>2388.03</td>\n",
       "      <td>8125.55</td>\n",
       "      <td>8.4052</td>\n",
       "      <td>0.03</td>\n",
       "      <td>392</td>\n",
       "      <td>2388</td>\n",
       "      <td>100.0</td>\n",
       "      <td>38.86</td>\n",
       "      <td>23.3735</td>\n",
       "    </tr>\n",
       "    <tr>\n",
       "      <th>1</th>\n",
       "      <td>1</td>\n",
       "      <td>2</td>\n",
       "      <td>-0.0027</td>\n",
       "      <td>-0.0003</td>\n",
       "      <td>100.0</td>\n",
       "      <td>518.67</td>\n",
       "      <td>641.71</td>\n",
       "      <td>1588.45</td>\n",
       "      <td>1395.42</td>\n",
       "      <td>14.62</td>\n",
       "      <td>21.61</td>\n",
       "      <td>554.85</td>\n",
       "      <td>2388.01</td>\n",
       "      <td>9054.42</td>\n",
       "      <td>1.3</td>\n",
       "      <td>47.50</td>\n",
       "      <td>522.16</td>\n",
       "      <td>2388.06</td>\n",
       "      <td>8139.62</td>\n",
       "      <td>8.3803</td>\n",
       "      <td>0.03</td>\n",
       "      <td>393</td>\n",
       "      <td>2388</td>\n",
       "      <td>100.0</td>\n",
       "      <td>39.02</td>\n",
       "      <td>23.3916</td>\n",
       "    </tr>\n",
       "    <tr>\n",
       "      <th>2</th>\n",
       "      <td>1</td>\n",
       "      <td>3</td>\n",
       "      <td>0.0003</td>\n",
       "      <td>0.0001</td>\n",
       "      <td>100.0</td>\n",
       "      <td>518.67</td>\n",
       "      <td>642.46</td>\n",
       "      <td>1586.94</td>\n",
       "      <td>1401.34</td>\n",
       "      <td>14.62</td>\n",
       "      <td>21.61</td>\n",
       "      <td>554.11</td>\n",
       "      <td>2388.05</td>\n",
       "      <td>9056.96</td>\n",
       "      <td>1.3</td>\n",
       "      <td>47.50</td>\n",
       "      <td>521.97</td>\n",
       "      <td>2388.03</td>\n",
       "      <td>8130.10</td>\n",
       "      <td>8.4441</td>\n",
       "      <td>0.03</td>\n",
       "      <td>393</td>\n",
       "      <td>2388</td>\n",
       "      <td>100.0</td>\n",
       "      <td>39.08</td>\n",
       "      <td>23.4166</td>\n",
       "    </tr>\n",
       "    <tr>\n",
       "      <th>3</th>\n",
       "      <td>1</td>\n",
       "      <td>4</td>\n",
       "      <td>0.0042</td>\n",
       "      <td>0.0000</td>\n",
       "      <td>100.0</td>\n",
       "      <td>518.67</td>\n",
       "      <td>642.44</td>\n",
       "      <td>1584.12</td>\n",
       "      <td>1406.42</td>\n",
       "      <td>14.62</td>\n",
       "      <td>21.61</td>\n",
       "      <td>554.07</td>\n",
       "      <td>2388.03</td>\n",
       "      <td>9045.29</td>\n",
       "      <td>1.3</td>\n",
       "      <td>47.28</td>\n",
       "      <td>521.38</td>\n",
       "      <td>2388.05</td>\n",
       "      <td>8132.90</td>\n",
       "      <td>8.3917</td>\n",
       "      <td>0.03</td>\n",
       "      <td>391</td>\n",
       "      <td>2388</td>\n",
       "      <td>100.0</td>\n",
       "      <td>39.00</td>\n",
       "      <td>23.3737</td>\n",
       "    </tr>\n",
       "    <tr>\n",
       "      <th>4</th>\n",
       "      <td>1</td>\n",
       "      <td>5</td>\n",
       "      <td>0.0014</td>\n",
       "      <td>0.0000</td>\n",
       "      <td>100.0</td>\n",
       "      <td>518.67</td>\n",
       "      <td>642.51</td>\n",
       "      <td>1587.19</td>\n",
       "      <td>1401.92</td>\n",
       "      <td>14.62</td>\n",
       "      <td>21.61</td>\n",
       "      <td>554.16</td>\n",
       "      <td>2388.01</td>\n",
       "      <td>9044.55</td>\n",
       "      <td>1.3</td>\n",
       "      <td>47.31</td>\n",
       "      <td>522.15</td>\n",
       "      <td>2388.03</td>\n",
       "      <td>8129.54</td>\n",
       "      <td>8.4031</td>\n",
       "      <td>0.03</td>\n",
       "      <td>390</td>\n",
       "      <td>2388</td>\n",
       "      <td>100.0</td>\n",
       "      <td>38.99</td>\n",
       "      <td>23.4130</td>\n",
       "    </tr>\n",
       "  </tbody>\n",
       "</table>\n",
       "</div>"
      ],
      "text/plain": [
       "   unit_number  time_in_cycles  operational_setting_1  operational_setting_2  operational_setting_3  sensor_measurement_1  sensor_measurement_2  sensor_measurement_3  sensor_measurement_4  sensor_measurement_5  sensor_measurement_6  sensor_measurement_7  sensor_measurement_8  sensor_measurement_9  sensor_measurement_10  sensor_measurement_11  sensor_measurement_12  sensor_measurement_13  sensor_measurement_14  sensor_measurement_15  sensor_measurement_16  sensor_measurement_17  sensor_measurement_18  sensor_measurement_19  sensor_measurement_20  sensor_measurement_21\n",
       "0            1               1                 0.0023                 0.0003                  100.0                518.67                643.02               1585.29               1398.21                 14.62                 21.61                553.90               2388.04               9050.17                    1.3                  47.20                 521.72                2388.03                8125.55                 8.4052                   0.03                    392                   2388                  100.0                  38.86                23.3735\n",
       "1            1               2                -0.0027                -0.0003                  100.0                518.67                641.71               1588.45               1395.42                 14.62                 21.61                554.85               2388.01               9054.42                    1.3                  47.50                 522.16                2388.06                8139.62                 8.3803                   0.03                    393                   2388                  100.0                  39.02                23.3916\n",
       "2            1               3                 0.0003                 0.0001                  100.0                518.67                642.46               1586.94               1401.34                 14.62                 21.61                554.11               2388.05               9056.96                    1.3                  47.50                 521.97                2388.03                8130.10                 8.4441                   0.03                    393                   2388                  100.0                  39.08                23.4166\n",
       "3            1               4                 0.0042                 0.0000                  100.0                518.67                642.44               1584.12               1406.42                 14.62                 21.61                554.07               2388.03               9045.29                    1.3                  47.28                 521.38                2388.05                8132.90                 8.3917                   0.03                    391                   2388                  100.0                  39.00                23.3737\n",
       "4            1               5                 0.0014                 0.0000                  100.0                518.67                642.51               1587.19               1401.92                 14.62                 21.61                554.16               2388.01               9044.55                    1.3                  47.31                 522.15                2388.03                8129.54                 8.4031                   0.03                    390                   2388                  100.0                  38.99                23.4130"
      ]
     },
     "execution_count": 14,
     "metadata": {},
     "output_type": "execute_result"
    }
   ],
   "source": [
    "df.head()"
   ]
  },
  {
   "cell_type": "markdown",
   "id": "3f39c659",
   "metadata": {
    "papermill": {
     "duration": 0.007438,
     "end_time": "2022-09-07T03:56:15.229104",
     "exception": false,
     "start_time": "2022-09-07T03:56:15.221666",
     "status": "completed"
    },
    "tags": []
   },
   "source": [
    "# Exploratory data analysis"
   ]
  },
  {
   "cell_type": "markdown",
   "id": "9bbe059f",
   "metadata": {
    "papermill": {
     "duration": 0.007182,
     "end_time": "2022-09-07T03:56:15.243923",
     "exception": false,
     "start_time": "2022-09-07T03:56:15.236741",
     "status": "completed"
    },
    "tags": []
   },
   "source": [
    "Visualizing cycles per unit number. These are the number of cycles (flights) an engine can run for before failing."
   ]
  },
  {
   "cell_type": "code",
   "execution_count": 15,
   "id": "ad871776",
   "metadata": {
    "execution": {
     "iopub.execute_input": "2022-09-07T03:56:15.261339Z",
     "iopub.status.busy": "2022-09-07T03:56:15.260965Z",
     "iopub.status.idle": "2022-09-07T03:56:16.361171Z",
     "shell.execute_reply": "2022-09-07T03:56:16.359718Z"
    },
    "papermill": {
     "duration": 1.11252,
     "end_time": "2022-09-07T03:56:16.364156",
     "exception": false,
     "start_time": "2022-09-07T03:56:15.251636",
     "status": "completed"
    },
    "tags": []
   },
   "outputs": [
    {
     "data": {
      "text/plain": [
       "<AxesSubplot:>"
      ]
     },
     "execution_count": 15,
     "metadata": {},
     "output_type": "execute_result"
    },
    {
     "data": {
      "image/png": "[encoded data removed]",
      "text/plain": [
       "<Figure size 720x1800 with 1 Axes>"
      ]
     },
     "metadata": {
      "needs_background": "light"
     },
     "output_type": "display_data"
    }
   ],
   "source": [
    "df['unit_number'].value_counts().plot(kind='barh', figsize=(10,25))"
   ]
  },
  {
   "cell_type": "code",
   "execution_count": 16,
   "id": "fb3dd1f0",
   "metadata": {
    "execution": {
     "iopub.execute_input": "2022-09-07T03:56:16.384528Z",
     "iopub.status.busy": "2022-09-07T03:56:16.383011Z",
     "iopub.status.idle": "2022-09-07T03:56:16.399460Z",
     "shell.execute_reply": "2022-09-07T03:56:16.398147Z"
    },
    "papermill": {
     "duration": 0.029143,
     "end_time": "2022-09-07T03:56:16.402052",
     "exception": false,
     "start_time": "2022-09-07T03:56:16.372909",
     "status": "completed"
    },
    "tags": []
   },
   "outputs": [],
   "source": [
    "df_cycles_per_unit = df.groupby([\"unit_number\"]).max().reset_index()"
   ]
  },
  {
   "cell_type": "markdown",
   "id": "f049e1bc",
   "metadata": {
    "papermill": {
     "duration": 0.007074,
     "end_time": "2022-09-07T03:56:16.416698",
     "exception": false,
     "start_time": "2022-09-07T03:56:16.409624",
     "status": "completed"
    },
    "tags": []
   },
   "source": [
    "Total number of units/engines in test data set."
   ]
  },
  {
   "cell_type": "code",
   "execution_count": 17,
   "id": "67b5e5dd",
   "metadata": {
    "execution": {
     "iopub.execute_input": "2022-09-07T03:56:16.433191Z",
     "iopub.status.busy": "2022-09-07T03:56:16.432808Z",
     "iopub.status.idle": "2022-09-07T03:56:16.440565Z",
     "shell.execute_reply": "2022-09-07T03:56:16.439242Z"
    },
    "papermill": {
     "duration": 0.018707,
     "end_time": "2022-09-07T03:56:16.442817",
     "exception": false,
     "start_time": "2022-09-07T03:56:16.424110",
     "status": "completed"
    },
    "tags": []
   },
   "outputs": [
    {
     "data": {
      "text/plain": [
       "100"
      ]
     },
     "execution_count": 17,
     "metadata": {},
     "output_type": "execute_result"
    }
   ],
   "source": [
    "df_cycles_per_unit['unit_number'].max()"
   ]
  },
  {
   "cell_type": "code",
   "execution_count": null,
   "id": "c94eacb2",
   "metadata": {
    "papermill": {
     "duration": 0.007679,
     "end_time": "2022-09-07T03:56:16.458373",
     "exception": false,
     "start_time": "2022-09-07T03:56:16.450694",
     "status": "completed"
    },
    "tags": []
   },
   "outputs": [],
   "source": []
  },
  {
   "cell_type": "code",
   "execution_count": null,
   "id": "3cac0eae",
   "metadata": {
    "papermill": {
     "duration": 0.007026,
     "end_time": "2022-09-07T03:56:16.473097",
     "exception": false,
     "start_time": "2022-09-07T03:56:16.466071",
     "status": "completed"
    },
    "tags": []
   },
   "outputs": [],
   "source": []
  }
 ],
 "metadata": {
  "kernelspec": {
   "display_name": "Python 3",
   "language": "python",
   "name": "python3"
  },
  "language_info": {
   "codemirror_mode": {
    "name": "ipython",
    "version": 3
   },
   "file_extension": ".py",
   "mimetype": "text/x-python",
   "name": "python",
   "nbconvert_exporter": "python",
   "pygments_lexer": "ipython3",
   "version": "3.7.12"
  },
  "papermill": {
   "default_parameters": {},
   "duration": 12.289534,
   "end_time": "2022-09-07T03:56:17.302634",
   "environment_variables": {},
   "exception": null,
   "input_path": "__notebook__.ipynb",
   "output_path": "__notebook__.ipynb",
   "parameters": {},
   "start_time": "2022-09-07T03:56:05.013100",
   "version": "2.3.4"
  }
 },
 "nbformat": 4,
 "nbformat_minor": 5
}
